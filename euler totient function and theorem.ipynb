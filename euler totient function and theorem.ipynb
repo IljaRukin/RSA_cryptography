{
 "cells": [
  {
   "cell_type": "markdown",
   "metadata": {},
   "source": [
    "### Euler totient (phi) function\n",
    "This function $\\phi(x)$ returns how many numbers between zero and x ($0 < number  \\leq  x$) do <mark>not</mark> share a common factor ($\\neq 1$) with x. $\\phi(x)$ of a prime number x is $x-1$, because the prime only it shares a common factor ($\\neq 1$) with itself.<br>\n",
    "example 1: $\\phi(10)=4 \\qquad$ [namely: 1,3,7,9] <br>\n",
    "example 2: $\\phi(7)=6 \\qquad$ [namely:1,2,3,4,5,6] <br>\n",
    "\n",
    "#### Properties\n",
    "If a and b have no common divider $gcd(a,b)=1$ the phi function can be simplified (multiplicative):<br>\n",
    "$\\phi(a \\cdot b) = \\phi(a) \\cdot \\phi(b)$\n",
    "\n",
    "\n",
    "#### Proof (this proof is only for prime numbers a and b to keep it simple)\n",
    "Premise $gcd(a,b)=1$ is always satisfied.<br>\n",
    "A prime number can only be divided by 1 or itself.<br>\n",
    "As a result a composite number can only be divided by it's prime factors or multiple thereof.<br>\n",
    "Therefore the possible common factors of $a \\cdot b$ are $1,1a,1b,2a,2b,3a,3b,...ab$.<br>\n",
    "There are exactly $(a-1)+(b-1)$ different divisors, wich results in:<br>\n",
    "$\\phi(a \\cdot b) = a \\cdot b - [(a-1)+(b-1)] = (a-1) \\cdot (b-1)$<br>\n",
    "wich is equal to $\\phi(a) \\cdot \\phi(b)$ ⬜\n",
    "\n"
   ]
  },
  {
   "cell_type": "markdown",
   "metadata": {},
   "source": [
    "### Eulers theorem\n",
    "Eulers theorem states the following about two coprime numbers (do not share a common divider). <br>\n",
    "$gcd(a,n)=1 \\qquad \\Leftrightarrow \\qquad a^{\\phi(n)} \\equiv 1 \\pmod n$\n",
    "\n",
    "#### Proof\n",
    "1. premise: $gcd(a,n)=1$<br><br>\n",
    "\n",
    "2. define a set A of numbers $r_i$ coprime to $n$ in the intervall $[1,n-1]$:<br>\n",
    "$gcd(r_i,n)=1$, $A=\\{r_1,r_2,...,r_{\\phi(n)}\\}$<br>\n",
    "(set A includes all $\\phi(n)$ to n coprime numbers $r_i$ from this intervall !)<br><br>\n",
    "\n",
    "3. construct a new set B (with a coprime to n)<br>\n",
    "$B = a \\cdot A = \\{a \\cdot r_1,a \\cdot r_2,...,a \\cdot r_{\\phi(n)}\\}$<br>\n",
    "scince $a$ and $r_i$ are coprime to $n$, the elements $ar_i$ from B are also coprime to $n$<br>\n",
    "$gcd(ar_i,n)=1$<br><br>\n",
    "\n",
    "4. dividing the elements in sets A and B by n results in all different reminders inside one set but matching pairs of reminders between both sets. Using this formula (proof in modulo arithmetic):\n",
    "\\begin{align}\n",
    "a_1 \\equiv b_1 \\pmod n \\\\\n",
    "a_2 \\equiv b_2 \\pmod n \\\\\n",
    "\\Rightarrow a_1 \\cdot a_2 \\equiv b_1 \\cdot b_2 \\pmod n\n",
    "\\end{align}\n",
    "we get:\n",
    "\\begin{align}\n",
    "r_1 \\cdot r_2 \\cdot … \\cdot r_{\\phi(n)} &\\equiv a \\cdot r_1 \\cdot a \\cdot r_2 \\cdot … \\cdot a \\cdot r_{\\phi(n)} \\pmod n \\\\\n",
    "r_1 \\cdot r_2 \\cdot … \\cdot r_{\\phi(n)} &\\equiv a^{\\phi(n)} \\big( r_1 \\cdot r_2 \\cdot … \\cdot r_{\\phi(n)} \\big) \\pmod n\n",
    "\\end{align}\n",
    "<br>\n",
    "\n",
    "5. Applying this following formula (proof in modulo arithmetic)\n",
    "\\begin{align}\n",
    "a \\equiv a \\cdot b \\pmod n \\\\\n",
    "\\Leftrightarrow 1 \\equiv b \\pmod n\n",
    "\\end{align}\n",
    "we can divide by all elements of set A. This completes the proof of eulers theorem.\n",
    "\\begin{align}\n",
    "1 &\\equiv a^{\\phi(n)} \\pmod n\n",
    "\\end{align}\n"
   ]
  },
  {
   "cell_type": "markdown",
   "metadata": {},
   "source": [
    "### Fermats little theorem (special case)\n",
    "Fermats little theorem is a special case, where n is a prime number. This results in:\n",
    "\n",
    "\\begin{align}\n",
    "\\phi(n) = n-1\n",
    "\\end{align}\n",
    "\n",
    "\\begin{align}\n",
    "1 &\\equiv a^{n-1} \\pmod n\n",
    "\\end{align}"
   ]
  },
  {
   "cell_type": "code",
   "execution_count": null,
   "metadata": {},
   "outputs": [],
   "source": []
  }
 ],
 "metadata": {
  "kernelspec": {
   "display_name": "Python 3",
   "language": "python",
   "name": "python3"
  },
  "language_info": {
   "codemirror_mode": {
    "name": "ipython",
    "version": 3
   },
   "file_extension": ".py",
   "mimetype": "text/x-python",
   "name": "python",
   "nbconvert_exporter": "python",
   "pygments_lexer": "ipython3",
   "version": "3.7.3"
  }
 },
 "nbformat": 4,
 "nbformat_minor": 2
}
