{
 "cells": [
  {
   "cell_type": "markdown",
   "metadata": {},
   "source": [
    "### Euclidean algorithm\n",
    "Euclidean algorithm finds the greatest common divider <b>gcd(a,b)</b> between two numbers a and b.<br>\n",
    "This is accomplished by dividing the bigger number a by the smaller number b, storing the reminder $r_1$ and discarding a. In the next step the numbers b and $r_1$ are divided. The algorithm is executed untill we get a reminder of zero. In this instance the divider is the greatest common divider of a and b.<br><br>\n",
    "\n",
    "\n",
    "\\begin{align}\n",
    "a \\div b &= f_1 + \\frac{r_1}{b} \\\\\n",
    "b \\div r_1 &= f_2 + \\frac{r_2}{r_1} \\\\\n",
    "r_1 \\div r_2 &= f_3 + \\frac{r_3}{r_2} \\\\\n",
    ".....&..... \\\\\n",
    "r_{n-2} \\div r_{n-1} &= f_{n} + \\frac{r_n}{r_{n-1}} \\\\\n",
    "r_{n-1} \\div r_n &= f_{n+1} + 0\\\\\n",
    "\\end{align}\n",
    "=> $r_n$ is greatest common divider<br><br>\n",
    "\n",
    "\n",
    "Since we only care about the reminder of the division we can write that algorithm with modulo operations instead:<br>\n",
    "\n",
    "\\begin{align}\n",
    "a \\;\\pmod {b} &\\equiv r_1 \\\\\n",
    "b \\;\\pmod {r_1} &\\equiv r_2 \\\\\n",
    "r_1 \\;\\pmod {r_2} &\\equiv r_3 \\\\\n",
    ".......... \\\\\n",
    "r_{n-2} \\;\\pmod {r_{n-1}} &\\equiv r_n \\\\\n",
    "r_{n-1} \\;\\pmod {r_n} &\\equiv 0 \\\\\n",
    "\\end{align}\n",
    "=> $r_n$ is greatest common divider<br><br>\n",
    "\n",
    "example with a=2585 and b=1925 :\n",
    "\n",
    "\\begin{align}\n",
    "2585 \\div 1925 &= 1 + \\frac{660}{1925} \\\\\n",
    "1925 \\div 660 &= 2 + \\frac{605}{660} \\\\\n",
    "660 \\div 605 &= 1 + \\frac{55}{605} \\\\\n",
    "605 \\div 55 &= 11 + 0\n",
    "\\end{align}\n",
    "\n",
    "So 55 is the greatest common divied.\n",
    "\n",
    "#### Proof\n",
    "\n",
    "The algorithm can be rewritten with multiplications<br>\n",
    "\n",
    "\\begin{align}\n",
    "a = f_1 \\cdot b + r_1 \\\\\n",
    "b = f_2 \\cdot r_1 + r_2 \\\\\n",
    "r_1 = f_3 \\cdot r_2 + r_3 \\\\\n",
    ".......... \\\\\n",
    "r_{n-3} = f_{n-1} \\cdot r_{n-2} + r_{n-1} \\\\\n",
    "r_{n-2} = f_{n} \\cdot r_{n-1} + r_n \\\\\n",
    "r_{n-1} = f_{n+1} \\cdot r_n + 0\n",
    "\\end{align}\n",
    "\n",
    "we can see, that $r_n$ divides $r_{n-1}$. From the notation with multiplications follows, that $r_{n}$ also divides $r_{n-1}$. This scheme can be appllied n+1 times (moving up the ladder) to prove, that $r_n$ divides a and b too.<br>\n",
    "\n",
    "Now we have to proof, that $r_n$ is the greatest common divider. Scince the greatest common divider divides a and b, it should be able to divide $r_{1}$. Consequently it should also be able to divide $r_{2}$. Moving down the ladder we find, that it should also be able to divide $r_{n}$. Because $r_{n}$ is a common divider of a and b and should be divided by the greatest common divider, $r_{n}$ is the greatest common divider.\n"
   ]
  },
  {
   "cell_type": "code",
   "execution_count": 1,
   "metadata": {},
   "outputs": [
    {
     "name": "stdout",
     "output_type": "stream",
     "text": [
      "searching for greatest common divider of 2585 and 1925\n",
      "55 is the biggest common divider\n"
     ]
    }
   ],
   "source": [
    "#euclidean algorithm\n",
    "a=2585\n",
    "b=1925\n",
    "\n",
    "print('searching for greatest common divider of',a,'and',b)\n",
    "\n",
    "#make a the bigger number\n",
    "if b>a:\n",
    "    c=a;a=b;b=c;\n",
    "\n",
    "reminder=1\n",
    "while reminder!=0:\n",
    "    reminder = a%b;\n",
    "    a=b;b=reminder;\n",
    "\n",
    "print(a,'is the biggest common divider')"
   ]
  },
  {
   "cell_type": "markdown",
   "metadata": {},
   "source": [
    "## extended euclidean algorithm\n",
    "\n",
    "The extended euclidean algorithm can be used to calculate s and t for some known numbers a and b:\n",
    "\n",
    "\\begin{align}\n",
    "a \\cdot s + b \\cdot t = \\text{gcd}(a,b)\n",
    "\\end{align}\n",
    "\n",
    "We use the example a=2585 and b=1925 above:\n",
    "\n",
    "\\begin{align}\n",
    "2585 \\cdot s + 1925 \\cdot t = 55\n",
    "\\end{align}\n",
    "\n",
    "We rearrange the equations produced with the vanilla euclidean algorithm.\n",
    "\n",
    "\\begin{align}\n",
    "2585 - 1925 \\cdot 1 &= 660 \\\\\n",
    "1925 - 660 \\cdot 2 &= 605 \\\\\n",
    "660 - 605 \\cdot 1 &= 55 \\\\\n",
    "605 - 55 \\cdot 11 &= 0\n",
    "\\end{align}\n",
    "\n",
    "We drop the last line and use the one above, since 55 is our $\\text{gcd}(a,b)$ and also the right hand side of the equation we are trying to solve.\n",
    "\n",
    "\\begin{align}\n",
    "55 &= 660 - 605 \\cdot 1 \\\\\n",
    "&= 660 - (1925 - 660 \\cdot 2) \\cdot 1 \\\\\n",
    "&= (2585 - 1925 \\cdot 1) - (1925 - (2585 - 1925 \\cdot 1) \\cdot 2) \\cdot 1 \\\\\n",
    "&= 2585 \\cdot 3 + 1925 \\cdot (-4)\n",
    "\\end{align}\n",
    "\n",
    "so s=3 and t=-4"
   ]
  },
  {
   "cell_type": "markdown",
   "metadata": {},
   "source": [
    "## implementation\n",
    "The extended euclidean algorithm was implemented using following scheme, calculating the multiples of a and b for the right hand side and progressing one line at a time.\n",
    "\n",
    "\\begin{align}\n",
    "a - b \\cdot 0 &= a \\\\\n",
    "b - a \\cdot 0 &= b \\\\\n",
    "\\quad \\\\\n",
    "a - b \\cdot f_1 &= r_1 \\\\\n",
    "b - r_1 \\cdot f_2 &= r_2 \\\\\n",
    "r_1 - r_2 \\cdot f_3 &= r_3 \\\\\n",
    ".......... \\\\\n",
    "r_{n-3} - r_{n-2} \\cdot f_{n-1} &= r_{n-1} \\\\\n",
    "r_{n-2} - r_{n-1} \\cdot f_n &= r_n = gcd(a,b)\n",
    "\\end{align}"
   ]
  },
  {
   "cell_type": "code",
   "execution_count": 6,
   "metadata": {},
   "outputs": [
    {
     "data": {
      "text/plain": [
       "(55, [-4, 3])"
      ]
     },
     "execution_count": 6,
     "metadata": {},
     "output_type": "execute_result"
    }
   ],
   "source": [
    "#extended euclidean algorithm\n",
    "a=2585\n",
    "b=1925\n",
    "\n",
    "import numpy as np\n",
    "\n",
    "#make a the bigger number\n",
    "if b>a:\n",
    "    c=a;a=b;b=c;\n",
    "\n",
    "reminder=1\n",
    "n = np.array([1,0]); n_p = np.array([0,1])\n",
    "while True:\n",
    "    #reminder = a%b;\n",
    "    #factor = a//b;\n",
    "    factor, reminder = divmod(a,b)\n",
    "    if reminder == 0:\n",
    "        break\n",
    "    a=b;b=reminder;\n",
    "    \n",
    "    n_pp = n_p\n",
    "    n_p = n\n",
    "    n = n_pp - n_p*factor\n",
    "\n",
    "b , list(n)"
   ]
  },
  {
   "cell_type": "markdown",
   "metadata": {},
   "source": [
    "## alternative bottom up scheme"
   ]
  },
  {
   "cell_type": "code",
   "execution_count": 5,
   "metadata": {},
   "outputs": [
    {
     "name": "stdout",
     "output_type": "stream",
     "text": [
      "-1 1\n",
      "3 -1\n",
      "-4 3\n"
     ]
    },
    {
     "data": {
      "text/plain": [
       "(55, -4, 3)"
      ]
     },
     "execution_count": 5,
     "metadata": {},
     "output_type": "execute_result"
    }
   ],
   "source": [
    "#extended euclidean algorithm\n",
    "a=2585\n",
    "b=1925\n",
    "\n",
    "import numpy as np\n",
    "\n",
    "#make a the bigger number\n",
    "if b>a:\n",
    "    c=a;a=b;b=c;\n",
    "\n",
    "reminder=1\n",
    "n = np.array([1,0]); n_p = np.array([0,1])\n",
    "p=0\n",
    "f = list()\n",
    "while True:\n",
    "    p+=1\n",
    "    #reminder = a%b;\n",
    "    #factor = a//b;\n",
    "    factor, reminder = divmod(a,b)\n",
    "    if reminder == 0:\n",
    "        break\n",
    "    f.append(factor)\n",
    "    a=b;b=reminder;\n",
    "\n",
    "x=1;y=0;\n",
    "for p in range(2,-1,-1):\n",
    "    h=y-f[p]*x;y=x;x=h;\n",
    "    print(x,y)\n",
    "b , x , y"
   ]
  },
  {
   "cell_type": "code",
   "execution_count": null,
   "metadata": {},
   "outputs": [],
   "source": []
  }
 ],
 "metadata": {
  "kernelspec": {
   "display_name": "Python 3",
   "language": "python",
   "name": "python3"
  },
  "language_info": {
   "codemirror_mode": {
    "name": "ipython",
    "version": 3
   },
   "file_extension": ".py",
   "mimetype": "text/x-python",
   "name": "python",
   "nbconvert_exporter": "python",
   "pygments_lexer": "ipython3",
   "version": "3.7.5"
  }
 },
 "nbformat": 4,
 "nbformat_minor": 2
}
