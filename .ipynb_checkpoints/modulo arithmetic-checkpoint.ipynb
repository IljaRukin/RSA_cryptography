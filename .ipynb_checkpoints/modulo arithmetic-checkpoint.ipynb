{
 "cells": [
  {
   "cell_type": "markdown",
   "metadata": {},
   "source": [
    "### modulo arithmetic\n",
    "In modulo arithmetic is the reminder of the devision all we care about. For this reason a different notation for division is introduced.<br>\n",
    "\n",
    "\\begin{align}\n",
    "a \\div b &= n + \\frac{r}{b} \\\\\n",
    "\\Leftrightarrow a &= b \\cdot n + r \\\\\n",
    "\\Rightarrow a &\\equiv r \\pmod n\n",
    "\\end{align}\n",
    "\n",
    "This expression can be understood as the reminder of $a \\div n$ is the same as the reminder of $r \\div n$.<br><br>\n",
    "example: $2 \\equiv 7 \\pmod 5$<br>\n",
    "\n",
    "### Rules\n",
    "\n",
    "<b>Reflexivity, Symmetry, Transsitivity:</b>\n",
    "\n",
    "\\begin{align}\n",
    "& a \\equiv a \\pmod n \\\\\n",
    "a \\equiv b \\pmod n &\\Leftrightarrow b \\equiv a \\pmod n \\\\\n",
    "a \\equiv b \\pmod n \\quad \\land \\quad b \\equiv c \\pmod n \\quad &\\Rightarrow \\quad a \\equiv c \\pmod n \\\\\n",
    "\\end{align}\n",
    "\n",
    "<b>extend range to negative numbers</b>\n",
    "\n",
    "The modulo operation is defined for only positive whole (natural) numbers. We extend the definition to negative values by this rule<br>\n",
    "\n",
    "\\begin{align}\n",
    "a \\equiv a+n \\pmod n\n",
    "\\end{align}\n",
    "\n",
    "example: $-3 \\equiv -3+5 \\equiv 2 \\pmod 5$<br><br>\n",
    "\n",
    "------------------------------------------------------\n",
    "\n",
    "<b>important rules</b><br>\n",
    "\n",
    "\\begin{align}\n",
    "a &\\equiv a \\cdot b \\pmod n \\\\\n",
    "\\Leftrightarrow 1 &\\equiv b \\pmod n \\qquad \\textbf{(0)}\n",
    "\\end{align}\n",
    "\n",
    "<b>If $a \\equiv b \\pmod n$ than following rules apply:</b><br>\n",
    "\n",
    "\\begin{align}\n",
    "a+k &\\equiv b+k \\pmod n \\qquad \\textbf{(1)} \\\\\n",
    "k \\cdot a &\\equiv k \\cdot b \\pmod n \\qquad \\textbf{(2)} \\\\\n",
    "a^k &\\equiv b^k \\pmod n \\qquad \\textbf{(3)} \\\\\n",
    "\\big( a^{k_1} \\big) ^ {k_2} &\\equiv a^{k_1 \\cdot k_2} \\equiv \\big( a^{k_2} \\big) ^ {k_1} \\pmod n \\qquad \\textbf{(4)} \\\\\n",
    "\\big( a^{k_1} \\pmod n \\big) ^ {k_2} \\pmod n &\\equiv \\big( a^{k_2} \\pmod n \\big) ^ {k_1} \\pmod n \\equiv a^{k_1 \\cdot k_2} \\pmod n \\qquad \\textbf{(5)}\n",
    "\\end{align}\n",
    "\n",
    "<b>If $a_1 \\equiv b_1 \\pmod n$ and $a_2 \\equiv b_2 \\pmod n$ the following is true:</b><br>\n",
    "\\begin{align}\n",
    "a_1 \\pm a_2 &\\equiv b_1 \\pm b_2 \\pmod n \\qquad \\textbf{(6)} \\\\\n",
    "a_1 \\cdot a_2 &\\equiv b_1 \\cdot b_2 \\pmod n \\qquad \\textbf{(7)}\n",
    "\\end{align}\n",
    "\n",
    "-----------------------------------------------------------------------------"
   ]
  },
  {
   "cell_type": "markdown",
   "metadata": {},
   "source": [
    "#### Proof 0\n",
    "\\begin{align}\n",
    "a &\\equiv a \\cdot b \\pmod n \\\\\n",
    "\\Leftrightarrow 1 &\\equiv b \\pmod n\n",
    "\\end{align}\n",
    "\n",
    "Using statement 2 backwards we get the proof:\n",
    "\\begin{align}\n",
    "a &\\equiv a \\cdot b \\pmod n \\\\\n",
    "a \\cdot 1 &\\equiv a \\cdot b \\pmod n \\\\\n",
    "1 &\\equiv b \\pmod n\n",
    "\\end{align}\n",
    "\n",
    "⬜\n"
   ]
  },
  {
   "cell_type": "markdown",
   "metadata": {},
   "source": [
    "#### Proof 1\n",
    "\n",
    "\\begin{align}\n",
    "a &\\equiv b \\pmod n \\\\\n",
    "\\Rightarrow a+k &\\equiv b+k \\pmod n\n",
    "\\end{align}\n",
    "\n",
    "By adding k to both sides we increase the reminder of a and b by the same amount, so that the equivalence is conserved. ⬜"
   ]
  },
  {
   "cell_type": "markdown",
   "metadata": {},
   "source": [
    "#### Proof 2\n",
    "\n",
    "\\begin{align}\n",
    "a &\\equiv b \\pmod n \\\\\n",
    "\\Rightarrow k \\cdot a &\\equiv k \\cdot b \\pmod n\n",
    "\\end{align}\n",
    "\n",
    "rewriting a and b from the premise with a factor $m_1 / m_2$ times n and a equal residue n:\n",
    "\\begin{align}\n",
    "a &\\equiv b \\pmod n \\\\\n",
    "m_1 \\cdot n + r &\\equiv m_2 \\cdot n + r \\pmod n \\\\\n",
    "\\end{align}\n",
    "\n",
    "Insert this into the equation we want to proof\n",
    "\n",
    "\\begin{align}\n",
    "k \\cdot (m_1 \\cdot n + r) &\\equiv k \\cdot (m_2 \\cdot n + r) \\pmod n \\\\\n",
    "\\Leftrightarrow \\underbrace{ m_1 \\cdot n \\cdot k }_{divisible \\hspace{0.2em} by \\hspace{0.2em} n} + r \\cdot k &\\equiv \\underbrace{ k \\cdot m_2 \\cdot n \\cdot k }_{divisible \\hspace{0.2em} by \\hspace{0.2em} n} + r \\cdot k \\pmod n \\\\\n",
    "\\Leftrightarrow r \\cdot k &\\equiv r \\cdot k \\pmod n\n",
    "\\end{align}\n",
    "\n",
    "This equation is true. ⬜"
   ]
  },
  {
   "cell_type": "markdown",
   "metadata": {},
   "source": [
    "#### Proof 3\n",
    "\n",
    "\\begin{align}\n",
    "a &\\equiv b \\pmod n \\\\\n",
    "\\Rightarrow a^k &\\equiv b^k \\pmod n\n",
    "\\end{align}\n",
    "\n",
    "First we show what happens if we exponentiate a number $a$ by $k$. We rewrite $a$ as a factor $m$ multiplied with the modulus $n$ and an additional residue $r$.\n",
    "\n",
    "\\begin{align}\n",
    "a^{k} &\\equiv (m \\cdot n + r)^{k} \\pmod n \\\\\n",
    "&\\equiv \\underbrace{ (m \\cdot n)^{k} + ... + k \\cdot (m \\cdot n) \\cdot r^{k-1} }_{divisible \\hspace{0.2em} by \\hspace{0.2em} n} + r^{k} \\pmod n \\\\\n",
    "&\\equiv r^{k} \\pmod n \\qquad \\textbf{(8)}\n",
    "\\end{align}\n",
    "\n",
    "We apply our exponentation rule $\\textbf{(8)}$ to our the equation we want to proof\n",
    "\n",
    "\\begin{align}\n",
    "a^k &\\equiv b^k \\pmod n \\\\\n",
    "r^{k} &\\equiv r^{k} \\pmod n \\\\\n",
    "\\end{align}\n",
    "\n",
    "If our premise was true, than the residues from a and b were equal. By our exponential rule we only have to take the residue of a and b to the power k. Taking the same number to the power k results obviously in two identical residues $r^{k} \\pmod n$. proof complete! ⬜"
   ]
  },
  {
   "cell_type": "markdown",
   "metadata": {},
   "source": [
    "#### Proof 4\n",
    "$\\big( a^{k_1} \\big) ^ {k_2} \\equiv a^{k_1 \\cdot k_2} \\equiv \\big( a^{k_2} \\big) ^ {k_1} \\pmod n$<br>\n",
    "This rule is a consequence of simple exponential rules (not the one we proofed above !). ⬜"
   ]
  },
  {
   "cell_type": "markdown",
   "metadata": {},
   "source": [
    "#### Proof 5\n",
    "$\\big( a^{k_1} \\pmod n \\big) ^ {k_2} \\pmod n \\equiv \\big( a^{k_2} \\pmod n \\big) ^ {k_1} \\pmod n \\equiv a^{k_1 \\cdot k_2} \\pmod n$\n",
    "\n",
    "This statement is important for the encryption and decryption with RSA. It states, that the order of exponentiation is not important and that you can apply the modulo operation at any time. It also simplifies the modulo calculation , since its enough to apply the exponentiation to the residue of any number a.<br>\n",
    "\n",
    "We apply our exponentation rule $\\textbf{(8)}$ to the statement we want to proof.<br><br>\n",
    "\n",
    "The first part\n",
    "\\begin{align}\n",
    "\\big( a^{k_1} \\pmod n \\big) ^ {k_2} \\pmod n &\\equiv \\big( r^{k_1} \\big) ^ {k_2} \\pmod n \\\\\n",
    "&\\equiv r^{k_1 \\cdot k_2} \\pmod n\n",
    "\\end{align}\n",
    "the second part\n",
    "\\begin{align}\n",
    "\\big( a^{k_2} \\pmod n \\big) ^ {k_1} \\pmod n &\\equiv \\big( r^{k_2} \\big) ^ {k_1} \\pmod n \\\\\n",
    "&\\equiv r^{k_2 \\cdot k_1} \\pmod n\n",
    "\\end{align}\n",
    "and the third part\n",
    "\\begin{align}\n",
    "a^{k_1 \\cdot k_2} \\pmod n \\equiv r^{k_2 \\cdot k_1} \\pmod n\n",
    "\\end{align}\n",
    "\n",
    "We showed, that the statement is valid. ⬜\n"
   ]
  },
  {
   "cell_type": "markdown",
   "metadata": {},
   "source": [
    "#### Proof 6\n",
    "\\begin{align}\n",
    "a_1 \\equiv b_1 \\pmod n \\\\\n",
    "a_2 \\equiv b_2 \\pmod n \\\\\n",
    "\\Rightarrow a_1 \\pm a_2 \\equiv b_1 \\pm b_2 \\pmod n\n",
    "\\end{align}\n",
    "\n",
    "Equation 1 and 2 are the premise. We rewrite them\n",
    "\\begin{align}\n",
    "m_1 \\cdot n + r_1 \\equiv m_2 \\cdot n + r_1 \\pmod n \\\\\n",
    "m_3 \\cdot n + r_2 \\equiv m_4 \\cdot n + r_2 \\pmod n\n",
    "\\end{align}\n",
    "\n",
    "Inserting them in equation 3 we get a true statement\n",
    "\n",
    "\\begin{align}\n",
    "(m_1 \\cdot n + r_1)\\pm(m_3 \\cdot n + r_2) &\\equiv (m_2 \\cdot n + r_1)\\pm(m_4 \\cdot n + r_2) \\pmod n \\\\\n",
    "\\underbrace{ n(m_1 \\pm m_3) }_{divisible \\hspace{0.2em} by \\hspace{0.2em} n} + r_1 \\pm r_2 &\\equiv \\underbrace{ n(m_2 \\pm m_4) }_{divisible \\hspace{0.2em} by \\hspace{0.2em} n} + r_1 \\pm r_2 \\pmod n \\\\\n",
    "r_1 \\pm r_2 &\\equiv r_1 \\pm r_2 \\pmod n\n",
    "\\end{align}\n",
    "\n",
    "Proof complete ⬜"
   ]
  },
  {
   "cell_type": "markdown",
   "metadata": {},
   "source": [
    "#### Proof 7\n",
    "\\begin{align}\n",
    "a_1 \\equiv b_1 \\pmod n \\\\\n",
    "a_2 \\equiv b_2 \\pmod n \\\\\n",
    "\\Rightarrow a_1 \\cdot a_2 \\equiv b_1 \\cdot b_2 \\pmod n\n",
    "\\end{align}\n",
    "\n",
    "Equation 1 and 2 are the premise. We rewrite them\n",
    "\\begin{align}\n",
    "m_1 \\cdot n + r_1 \\equiv m_2 \\cdot n + r_1 \\pmod n \\\\\n",
    "m_3 \\cdot n + r_2 \\equiv m_4 \\cdot n + r_2 \\pmod n\n",
    "\\end{align}\n",
    "\n",
    "Inserting them in equation 3 we get a true statement\n",
    "\\begin{align}\n",
    "(m_1 \\cdot n + r_1)(m_3 \\cdot n + r_2) &\\equiv (m_2 \\cdot n + r_1)(m_4 \\cdot n + r_2) \\pmod n \\\\\n",
    "\\underbrace{ m_1 \\cdot m_3 \\cdot n^2 + m_1 \\cdot r_2 \\cdot n + m_3 \\cdot r_1 \\cdot n }_{divisible \\hspace{0.2em} by \\hspace{0.2em} n} + r_1 \\cdot r_2 &\\equiv \\underbrace{ m_2 \\cdot m_4 \\cdot n^2 + m_2 \\cdot r_2 \\cdot n + m_4 \\cdot r_1 \\cdot n }_{divisible \\hspace{0.2em} by \\hspace{0.2em} n} + r_1 \\cdot r_2 \\pmod n \\\\\n",
    "r_1 \\cdot r_2 &\\equiv r_1 \\cdot r_2 \\pmod n\n",
    "\\end{align}\n",
    "\n",
    "Proof complete ⬜"
   ]
  },
  {
   "cell_type": "code",
   "execution_count": 1,
   "metadata": {},
   "outputs": [
    {
     "data": {
      "text/plain": [
       "31"
      ]
     },
     "execution_count": 1,
     "metadata": {},
     "output_type": "execute_result"
    }
   ],
   "source": [
    "#modulo calculation slow\n",
    "#b^e % n\n",
    "(51269213**18962)%317"
   ]
  },
  {
   "cell_type": "code",
   "execution_count": 2,
   "metadata": {},
   "outputs": [
    {
     "data": {
      "text/plain": [
       "31"
      ]
     },
     "execution_count": 2,
     "metadata": {},
     "output_type": "execute_result"
    }
   ],
   "source": [
    "#modulo calculation fast\n",
    "#(using rule 5 and splitting the exponentiation into an multiplication and\n",
    "#calculating the modulus after each multiplication)\n",
    "def RetreatDecimal(x,pos):\n",
    "    return (x%(10**pos))//(10**(pos-1))\n",
    "\n",
    "def modulo(b,e,n):\n",
    "    c=1\n",
    "    for k in range(1,e+1):\n",
    "        c=(c*b) %n\n",
    "    return c\n",
    "\n",
    "#b^e % n\n",
    "modulo(51269213,18962,317)"
   ]
  },
  {
   "cell_type": "code",
   "execution_count": 3,
   "metadata": {},
   "outputs": [
    {
     "data": {
      "text/plain": [
       "31"
      ]
     },
     "execution_count": 3,
     "metadata": {},
     "output_type": "execute_result"
    }
   ],
   "source": [
    "#modulo calculation fast (already implemented in python)\n",
    "#b^e % n\n",
    "pow(51269213,18962,317)"
   ]
  }
 ],
 "metadata": {
  "kernelspec": {
   "display_name": "Python 3",
   "language": "python",
   "name": "python3"
  },
  "language_info": {
   "codemirror_mode": {
    "name": "ipython",
    "version": 3
   },
   "file_extension": ".py",
   "mimetype": "text/x-python",
   "name": "python",
   "nbconvert_exporter": "python",
   "pygments_lexer": "ipython3",
   "version": "3.7.3"
  }
 },
 "nbformat": 4,
 "nbformat_minor": 2
}
