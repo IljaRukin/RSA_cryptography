{
 "cells": [
  {
   "cell_type": "markdown",
   "metadata": {},
   "source": [
    "### RSA\n",
    "\n",
    "used for information exchange\n",
    "\n",
    "#### Eulers theorem states:\n",
    "$gcd(a,n)=1 \\qquad \\Leftrightarrow \\qquad a^{\\phi(n)} \\equiv 1 \\pmod n$\n",
    "\n",
    "taking both sides to the power of k\n",
    "\\begin{align}\n",
    "\\big( a^{\\phi(n)} \\big) ^k \\equiv 1^k \\pmod n \\\\\n",
    "a^{k \\cdot \\phi(n)} \\equiv 1 \\pmod n\n",
    "\\end{align}\n",
    "\n",
    "adding a to both sides:\n",
    "\\begin{align}\n",
    "a^{k \\cdot \\phi(n)+1} \\equiv a \\pmod n\n",
    "\\end{align}\n",
    "\n",
    "We define:\n",
    "\\begin{align}\n",
    "e \\cdot d = k \\cdot \\phi(n)+1\n",
    "\\end{align}\n",
    "\n",
    "from the euler theorem follows:\n",
    "\\begin{align}\n",
    "a &\\equiv a^{e \\cdot d} \\\\\n",
    "&\\equiv ( a^e \\pmod n )^d \\pmod n \\\\\n",
    "&\\equiv ( a^d \\pmod n )^e \\pmod n\n",
    "\\end{align}\n",
    "\n",
    "This can be used to encrypt a message a with e and decrypt it with d.<br>\n",
    "We can choose an integer e and can calculate a matching integer d.\n",
    "\\begin{align}\n",
    "d = \\frac{ k \\cdot \\phi(n)+1 }{e}\n",
    "\\end{align}\n",
    "\n",
    "where \n",
    "\\begin{align}\n",
    "\\phi(n) = (p-1)(q-1)\n",
    "\\end{align}\n",
    "\n",
    "The solution for d has to be an integer. For this reason the calculation of d is performed with the extended euclidean algorithm. We start with the previous equation:\n",
    "\n",
    "\\begin{align}\n",
    "e \\cdot d = k \\cdot \\phi(n)+1 \\\\\n",
    "e \\cdot d \\equiv 1 \\pmod {\\phi(n)}\n",
    "\\end{align}\n",
    "\n",
    "From this follows, that e and d shouldn't have a common factor with $\\phi(n)$.\n",
    "\n",
    "\\begin{align}\n",
    "gcd(e,\\phi(n))=gcd(d,\\phi(n))=1\n",
    "\\end{align}\n",
    "\n",
    "\n",
    "The extended euclidean algorithm can be used to calculate s and t for some known numbers a and b:\n",
    "\n",
    "\\begin{align}\n",
    "a \\cdot s + b \\cdot t = 1\n",
    "\\end{align}\n",
    "\n",
    "Set $a=e$ and $b=\\phi(N)$. For convinience we set $s=d$ and $t=k$. Since $gcd(e,\\phi(n))=1$ the equation above simplifies:\n",
    "\n",
    "\\begin{align}\n",
    "e \\cdot d + \\phi(n) \\cdot k = 1\n",
    "\\end{align}\n",
    "\n",
    "With the extended euclidean algorithm we calculate the private key d and also get k (wich is of no use).\n",
    "The result is an integer d, wich is important for the encryption to work."
   ]
  },
  {
   "cell_type": "markdown",
   "metadata": {},
   "source": [
    "### Crack Cipher\n",
    "\n",
    "to crack the cifer d has to be found. For that $\\phi(n)$ has to be computed, wich for great numbers N is only feasible by decomposing N into its primes p and q and computing $\\phi(n)=(p-1)(q-1)$. Hence to decipher RSA prime factorization is necessary, wich is also a hard problem."
   ]
  },
  {
   "cell_type": "code",
   "execution_count": 11,
   "metadata": {},
   "outputs": [],
   "source": [
    "import numpy as np\n",
    "\n",
    "def euclidean_algorithm(a,b):\n",
    "    #make a the bigger number\n",
    "    if b>a:\n",
    "        c=a;a=b;b=c;\n",
    "\n",
    "    reminder=1\n",
    "    while True:\n",
    "        factor, reminder = divmod(a,b)\n",
    "        if reminder == 0:\n",
    "            break\n",
    "        a=b;b=reminder;\n",
    "\n",
    "    return b\n",
    "\n",
    "def extended_euclidean_algorithm(a,b):\n",
    "    #make a the bigger number\n",
    "    if b>a:\n",
    "        c=a;a=b;b=c;\n",
    "\n",
    "    reminder=1\n",
    "    n = np.array([1,0]); n_p = np.array([0,1])\n",
    "    while True:\n",
    "        factor, reminder = divmod(a,b)\n",
    "        if reminder == 0:\n",
    "            break\n",
    "        a=b;b=reminder;\n",
    "\n",
    "        n_pp = n_p\n",
    "        n_p = n\n",
    "        n = n_pp - n_p*factor\n",
    "        \n",
    "    return b, n[0], n[1]\n"
   ]
  },
  {
   "cell_type": "code",
   "execution_count": 51,
   "metadata": {},
   "outputs": [],
   "source": [
    "###Alice (generates all keys)\n",
    "#primes:\n",
    "p1=41\n",
    "p2=59\n",
    "\n",
    "N=p1*p2\n",
    "\n",
    "#Phi(N)=Phi(p1*p2)=Phi(p1)*Phi(p2)=(p1-1)*(p2-1)\n",
    "Phi=(p1-1)*(p2-1)\n",
    "\n",
    "#encryption key\n",
    "e=3\n",
    "#test for no common factors with Phi(N)\n",
    "if euclidean_algorithm(e,Phi)!=1:\n",
    "    print('common factors of e with Phi(N)')\n",
    "    raise 'ValueError'\n",
    "\n",
    "#decryption key\n",
    "\n",
    "gcd,d,k = extended_euclidean_algorithm(e,Phi)\n",
    "d = int(d % Phi) #make shure d is positive integer"
   ]
  },
  {
   "cell_type": "code",
   "execution_count": 58,
   "metadata": {},
   "outputs": [
    {
     "data": {
      "text/plain": [
       "(2419, 3)"
      ]
     },
     "execution_count": 58,
     "metadata": {},
     "output_type": "execute_result"
    }
   ],
   "source": [
    "###public available\n",
    "N , e"
   ]
  },
  {
   "cell_type": "code",
   "execution_count": 59,
   "metadata": {},
   "outputs": [],
   "source": [
    "###Bob (encrypts message)\n",
    "#message\n",
    "m=89\n",
    "\n",
    "#calculate intermediate value\n",
    "#c=m^e mod N\n",
    "c=pow(m,e,N)"
   ]
  },
  {
   "cell_type": "code",
   "execution_count": 60,
   "metadata": {},
   "outputs": [
    {
     "data": {
      "text/plain": [
       "1040"
      ]
     },
     "execution_count": 60,
     "metadata": {},
     "output_type": "execute_result"
    }
   ],
   "source": [
    "###transfer encrypted message\n",
    "c"
   ]
  },
  {
   "cell_type": "code",
   "execution_count": 61,
   "metadata": {},
   "outputs": [],
   "source": [
    "###Alice(decrypts message)\n",
    "#m=c^d mod N\n",
    "#m_decrypted = c**d % N ########################too big number\n",
    "m_decrypted = pow(c,d,N)"
   ]
  },
  {
   "cell_type": "code",
   "execution_count": 63,
   "metadata": {},
   "outputs": [
    {
     "name": "stdout",
     "output_type": "stream",
     "text": [
      "the original message  89  is equivalent to the decrypted one  89\n"
     ]
    }
   ],
   "source": [
    "print('the original message ',m,' is equivalent to the decrypted one ',m_decrypted)"
   ]
  },
  {
   "cell_type": "code",
   "execution_count": null,
   "metadata": {},
   "outputs": [],
   "source": []
  }
 ],
 "metadata": {
  "kernelspec": {
   "display_name": "Python 3",
   "language": "python",
   "name": "python3"
  },
  "language_info": {
   "codemirror_mode": {
    "name": "ipython",
    "version": 3
   },
   "file_extension": ".py",
   "mimetype": "text/x-python",
   "name": "python",
   "nbconvert_exporter": "python",
   "pygments_lexer": "ipython3",
   "version": "3.7.5"
  }
 },
 "nbformat": 4,
 "nbformat_minor": 2
}
