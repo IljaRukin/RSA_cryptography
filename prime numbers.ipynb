{
 "cells": [
  {
   "cell_type": "markdown",
   "metadata": {},
   "source": [
    "## Prime numbers\n",
    "Prime numbers are numbers, wich can only be divided (without a reminder) by 1 and themself.<br>\n",
    "example: 2, 3, 5, 7, 11, 13, 17, 19, 23, 29, 31, 37, 41, 43, 47, 53, 59, 61, 67, 71, 73, 79, 83, 89, 97, 101, 103, 107, 109, 113, 127, 131, 137, 139, 149, 151, 157, 163, 167, 173, 179, 181, 191, 193, 197, 199, 211, 223, 227, 229, 233, 239, 241, 251, 257, 263, 269, 271, ...<br><br>\n",
    "\n",
    "###### Composite numbers\n",
    "Any number is either a prime number, or it can be divided into smaller and smaller numbers untill these factors are prime numbers.<br>\n",
    "example: $105 = 7 \\cdot 15 = 7 \\cdot 5 \\cdot 3$\n",
    "\n",
    "###### prime factors are unique\n",
    "Proof:<br>\n",
    "Assume a composite number a can be represented with two different sequences of prime numbers:<br>\n",
    "\\begin{equation}\n",
    "a=p_1 \\cdot p_2 \\cdot ... \\cdot p_n \\qquad \\& \\qquad a = q_1 \\cdot q_2 \\cdot ... \\cdot q_n\n",
    "\\end{equation}\n",
    "Dividing both sequences by each other should equal one.<br>\n",
    "\\begin{equation}\n",
    "\\frac{p_1 \\cdot p_2 \\cdot ... \\cdot p_n}{q_1 \\cdot q_2 \\cdot ... \\cdot q_n} = \\frac{a}{a} = 1\n",
    "\\end{equation}\n",
    "For this to be true the numbers in the numerator and denominator should be equal. By that they should be able to be reduced to one. Thus our first assumption was wrong and any number a is represented by a <mark>unique</mark> sequence of prime factors.\n",
    "## Coprime\n",
    "A number a is called coprime with another number b if they do not share a common factor except 1. The greatest common divider is in this case is 1.<br>\n",
    "$gcd(a,b)=1$"
   ]
  },
  {
   "cell_type": "markdown",
   "metadata": {},
   "source": [
    "### exact test for prime number\n",
    "1. check for even number<br>\n",
    "2. check for special cases:0,2<br>\n",
    "2. all even numbers are discarded<br>\n",
    "=> odd numbers left<br>\n",
    "4. check for special case:1<br>\n",
    "3. test by dividing with odd numbers between 3 and $\\sqrt{p}$ for prime<br>"
   ]
  },
  {
   "cell_type": "code",
   "execution_count": 3,
   "metadata": {},
   "outputs": [
    {
     "name": "stdout",
     "output_type": "stream",
     "text": [
      "testing if 32416190071 is a prime number:\n",
      "It's a prime!\n"
     ]
    }
   ],
   "source": [
    "#exact prime test by division\n",
    "\n",
    "#test for prime\n",
    "p=32416190071 #max int number is 2^64-1 & modulo not supported for float nubmers\n",
    "\n",
    "import numpy as np\n",
    "\n",
    "print('testing if',str(p),'is a prime number:')\n",
    "\n",
    "halfway = int(np.sqrt(p))\n",
    "\n",
    "if p%2==0:\n",
    "#even numbers\n",
    "    if p == 0:\n",
    "        print(\"it's not a prime!\")\n",
    "    elif p == 2:\n",
    "        print(\"it's a prime!\")\n",
    "    else:\n",
    "        print(\"it's an even integer and by that not a prime!\")\n",
    "else:\n",
    "#odd numbers\n",
    "    if p==1:\n",
    "        print(\"It's a prime!\")\n",
    "    else:\n",
    "        #division test loop\n",
    "        i=3\n",
    "        while i<=halfway:\n",
    "            if p%i != 0:\n",
    "                i = i+2\n",
    "            else:\n",
    "                print(\"It's not a prime!\")\n",
    "                break\n",
    "        else:\n",
    "            print(\"It's a prime!\")"
   ]
  },
  {
   "cell_type": "markdown",
   "metadata": {},
   "source": [
    "### primality test\n",
    "test if a number is probably prime (not 100% certain)"
   ]
  },
  {
   "cell_type": "markdown",
   "metadata": {},
   "source": [
    "### Fermat & Miller Rabin Test\n",
    "Fermats little theorem states for a prime number n and an arbitrary number a:<br>\n",
    "\n",
    "\\begin{align}\n",
    "1 &\\equiv a^{n-1} \\pmod n\n",
    "\\end{align}\n",
    "\n",
    "This formula alone can be used to proof if a number is prime. Unfortunately there exists so called Carmichael numbers (561,1105,1729) The Miller Rabin test is an extended version of this formula, wich is more relaible. We rewrite fermats little theorem by replacing $n-1 = k$:\n",
    "\n",
    "\\begin{align}\n",
    "a^{k} &\\equiv 1 \\pmod n \\\\\n",
    "a^{k} - 1 &\\equiv 0 \\pmod n \\\\\n",
    "(a^{\\frac{k}{2}} - 1)(a^{\\frac{k}{2}} + 1) &\\equiv 0 \\pmod n\n",
    "\\end{align}\n",
    "\n",
    "From this follows, that $a^{\\frac{k}{2}} \\equiv \\pm 1 \\pmod n$.\n",
    "\n",
    "If $a^{\\frac{k}{2}} \\equiv 1 \\pmod n$ than the equation can be applied once more (to get $a^{\\frac{k}{4}} \\equiv \\pm 1 \\pmod n$).\n",
    "\n",
    "If $a^{\\frac{k}{2}} \\equiv -1 \\pmod n$, than applying the equation again will result in $a^{\\frac{k}{4}} \\equiv (n-1)\\pmod n$ wich in turn follows an arbitrary number $a^{\\frac{k}{8}} \\pmod n$.\n",
    "\n",
    "We can apply this scheme as long as the exponent $\\frac{k}{2^j}$ is a whole integer. For this reason we rewrite $k = n-1 = d \\cdot 2^j$.<br>\n",
    "For a prime number either all $a^{d \\cdot 2^j} \\equiv 1 \\pmod n$ or if for small j:  $a^{d \\cdot 2^j} \\not\\equiv 1 \\pmod n$ than at some bigger $j_0>j$ the equation will be $a^{d \\cdot 2^{j_0}} \\equiv (n-1) \\pmod n$, than $a^{d \\cdot 2^{j_1}} \\equiv -1 \\pmod n$ and at all bigger $j=j_n (n>0)$ the equation will be $a^{d \\cdot 2^{j_n}} \\equiv 1 \\pmod n$, so that fermats little theorem is met.\n",
    "\n",
    "Next is an example for the Miller Rabin Test.<br>\n",
    "We want to proof, if n=89 is a prime number. First we choose an arbitrary number a=5 .<br>\n",
    "The fermat test for prime numbers is true for this example:<br>\n",
    "\n",
    "\\begin{align}\n",
    "a^{n-1} \\equiv 1 \\pmod n\\\\\n",
    "5^{88} \\equiv 1 \\pmod 89\\\\\n",
    "\\end{align}\n",
    "\n",
    "Now we use our extension to the fermat test:<br>\n",
    "\n",
    "\\begin{align}\n",
    "n-1=89-1= 88 =2*44=2^2*22=2^3*11\n",
    "\\end{align}\n",
    "\n",
    "We get $d=11$ and $j <= 3$\n",
    "\n",
    "\n",
    "\\begin{align}\n",
    "a^{d \\cdot 2^j} &\\pmod {89}\\\\\n",
    "5^{11} &\\equiv 55 \\pmod {89}\\\\\n",
    "5^{22} &\\equiv 88 \\equiv -1 \\pmod {89}\\\\\n",
    "5^{44} &\\equiv 1 \\pmod {89}\\\\\n",
    "\\end{align}\n",
    "\n",
    "We observe the expected behaviour for a prime. Namely that the residue $a^{d \\cdot 2^j} \\pmod n$ changes from an arbitrary number over -1 to +1."
   ]
  },
  {
   "cell_type": "code",
   "execution_count": 25,
   "metadata": {},
   "outputs": [
    {
     "name": "stdout",
     "output_type": "stream",
     "text": [
      "testing if 25326092401 is a prime number:\n",
      "[4983507816, -1, 1, 1, 1]\n"
     ]
    }
   ],
   "source": [
    "#Miller Rabin Primality Test\n",
    "\n",
    "#test for prime\n",
    "p=25326092401 #max int number is 2^64-1 & modulo not supported for float nubmers\n",
    "\n",
    "import random\n",
    "import numpy as np\n",
    "\n",
    "print('testing if',str(p),'is a prime number:')\n",
    "\n",
    "if p%2==0:\n",
    "#even numbers\n",
    "    if p == 0:\n",
    "        print(\"it's not a prime!\")\n",
    "    elif p == 2:\n",
    "        print(\"it's a prime!\")\n",
    "    else:\n",
    "        print(\"it's an even integer and by that not a prime!\")\n",
    "else:\n",
    "#odd numbers\n",
    "    if p==1:\n",
    "        print(\"It's a prime!\")\n",
    "    else:\n",
    "        #actual Miller Rabin Test\n",
    "        \n",
    "        d=p-1;jj=0\n",
    "        while d%2 == 0:\n",
    "            d = d/2\n",
    "            jj = jj+1\n",
    "        \n",
    "        jj=int(jj);d=int(d)\n",
    "        a=3#int(np.random.randint(low=2,high=(p-2),size=1,dtype='int64'))\n",
    "        \n",
    "        #modulo = [a**d % p]\n",
    "        result=pow(a,d,p)\n",
    "        if result==(p-1):#(p-1) equiv -1 (mod p)\n",
    "            result=-1\n",
    "        modulo = [result]\n",
    "        \n",
    "        #loop over all j (can be reduced for big numbers)\n",
    "        for j in range(1,jj+1):\n",
    "            #result=modulo[j-1]**2 % p\n",
    "            result=pow(modulo[j-1],2,p)\n",
    "            if result==(p-1):\n",
    "                result=-1\n",
    "            modulo.append(result)\n",
    "        \n",
    "        print(modulo)"
   ]
  },
  {
   "cell_type": "markdown",
   "metadata": {},
   "source": [
    "### Shor Prime Factorization\n",
    "\n",
    "We have a number N, wich is composed of two prime numbers $p_1$ and $p_2$. Our job is to find the prime factors.\n",
    "\n",
    "\\begin{align}\n",
    "N = p_1 \\cdot p_2\n",
    "\\end{align}\n",
    "\n",
    "We guess a number $a < N$ and search for an exponent $n$, so that $a^n$ is 1 modulo N. We can rewrite this expression to get two possible factors of N.\n",
    "\n",
    "\\begin{align}\n",
    "a^n &\\equiv 1 \\pmod N\\\\\n",
    "a^n &= k \\cdot N + 1\\\\\n",
    "a^n - 1 &= k \\cdot N\\\\\n",
    "\\underbrace{(a^\\frac{n}{2} + 1)}_{f1} \\cdot \\underbrace{(a^\\frac{n}{2} - 1)}_{f2} &= k \\cdot N\n",
    "\\end{align}\n",
    "\n",
    "If f1 or f2 are whole numbers and are not divisible by N without residue, they are the primes. To find the common factor between f1 or f2 and N (the prime), we can use the euclidian algorithm.\n",
    "\n",
    "note: n has to be an even number, so that the exponent $a^{\\frac{n}{2}}$ does not become a fraction"
   ]
  },
  {
   "cell_type": "markdown",
   "metadata": {},
   "source": [
    "### Quantum twist\n",
    "\n",
    "When searching an exponent n to fulfill $a^n \\equiv 1 \\pmod N$ we obviously discard the first trivial exponent $n=0$ and search for the next one wichs appears at $n=r$. Note that $r$ is the also the periodicity, with wich the result of $a^n \\pmod N$ repeats. So the problem can be reexpressed as finding the frequency r.\n",
    "\n",
    "This can be done efficiently using a quantum computer. It computes $a^n \\pmod N$ for some n, performs a fourier transform into the frequency domain, measuring the system and performing some mor calculations.\n",
    "More information at: https://en.wikipedia.org/wiki/Shor%27s_algorithm\n"
   ]
  },
  {
   "cell_type": "code",
   "execution_count": 31,
   "metadata": {
    "scrolled": false
   },
   "outputs": [
    {
     "name": "stdout",
     "output_type": "stream",
     "text": [
      "\n",
      " N: 77 \n",
      " a:  3 \n",
      " n:  30 \n",
      " a^n:  205891132094649 \n",
      " a^n mod N: 1 \n",
      " f1:  14348908 \n",
      " f2:  14348906\n"
     ]
    }
   ],
   "source": [
    "import numpy as np\n",
    "a = 3#int(np.random.randint(low=2,high=9,size=1,dtype='int64'))\n",
    "\n",
    "#N=541*997\n",
    "N=7*11\n",
    "\n",
    "#find exponent\n",
    "n=2\n",
    "#while ((a**n)%N) != 1:\n",
    "while pow(a,n,N) != 1:\n",
    "    n=n+2\n",
    "\n",
    "#calculate f_i\n",
    "e=int(n/2)\n",
    "f = a**e\n",
    "\n",
    "print('\\n N:',N,'\\n a: ',a,'\\n n: ',n,'\\n a^n: ',a**n,'\\n a^n mod N:',a**n%N,'\\n f1: ',f+1,'\\n f2: ',f-1)"
   ]
  },
  {
   "cell_type": "code",
   "execution_count": 32,
   "metadata": {
    "scrolled": false
   },
   "outputs": [
    {
     "name": "stdout",
     "output_type": "stream",
     "text": [
      "searching for greatest common divider of 77 and 14348908\n",
      "7 is the biggest common divider\n"
     ]
    }
   ],
   "source": [
    "#euclidean algorithm\n",
    "a=N\n",
    "b=f+1 #f1\n",
    "\n",
    "print('searching for greatest common divider of',a,'and',b)\n",
    "\n",
    "#make a the bigger number\n",
    "if b>a:\n",
    "    c=a;a=b;b=c;\n",
    "\n",
    "reminder=1\n",
    "while reminder!=0:\n",
    "    reminder = a%b;\n",
    "    a=b;b=reminder;\n",
    "\n",
    "print(a,'is the biggest common divider')"
   ]
  },
  {
   "cell_type": "code",
   "execution_count": 33,
   "metadata": {
    "scrolled": false
   },
   "outputs": [
    {
     "name": "stdout",
     "output_type": "stream",
     "text": [
      "searching for greatest common divider of 77 and 14348906\n",
      "11 is the biggest common divider\n"
     ]
    }
   ],
   "source": [
    "#euclidean algorithm\n",
    "a=N\n",
    "b=f-1 #f2\n",
    "\n",
    "print('searching for greatest common divider of',a,'and',b)\n",
    "\n",
    "#make a the bigger number\n",
    "if b>a:\n",
    "    c=a;a=b;b=c;\n",
    "\n",
    "reminder=1\n",
    "while reminder!=0:\n",
    "    reminder = a%b;\n",
    "    a=b;b=reminder;\n",
    "\n",
    "print(a,'is the biggest common divider')"
   ]
  }
 ],
 "metadata": {
  "kernelspec": {
   "display_name": "Python 3",
   "language": "python",
   "name": "python3"
  },
  "language_info": {
   "codemirror_mode": {
    "name": "ipython",
    "version": 3
   },
   "file_extension": ".py",
   "mimetype": "text/x-python",
   "name": "python",
   "nbconvert_exporter": "python",
   "pygments_lexer": "ipython3",
   "version": "3.7.5"
  }
 },
 "nbformat": 4,
 "nbformat_minor": 2
}
