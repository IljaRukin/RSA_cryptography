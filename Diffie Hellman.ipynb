{
 "cells": [
  {
   "cell_type": "markdown",
   "metadata": {},
   "source": [
    "### Diffie Hellman Algorithm\n",
    "used for shared key generation\n",
    "\n",
    "Alice and Bob use a prime number p and a generator g ($1<g<p$) to generate a cyclic group [1,p-1] by $g^a \\pmod p$. The shared key will be one of the elements in this group. It's crucial to choose a generator, wich generates a sufficient big group to avoid brute force attacks.\n",
    "\n",
    "They choose their numbers a,b < n and compute element $g^{a \\cdot b} \\pmod p$ from this cyclic group, wich is the new shared key.\n",
    "\n",
    "This Algorithm works, since the order of exponentiation and modulo division does not change the result:\n",
    "\n",
    "\\begin{align}\n",
    "(g^a \\mod p)^b \\pmod p &= ( \\underbrace{g \\cdot ... \\cdot g}_{\\text{a  elements}} \\pmod p ) \\cdot ( \\underbrace{g \\cdot ... \\cdot g}_{\\text{b  elements}} \\pmod p ) \\\\\n",
    "&= (g^b \\mod p)^a \\pmod p \\\\\n",
    "&= g^{(a \\cdot b)} \\pmod p\n",
    "\\end{align}\n",
    "\n",
    "The group has a maximum size of p-1, since zero can not occur ($g^a \\not\\equiv 0 \\pmod p$). If this maximum group-size is divisible by a prime q, than there are at least q generators, wich generate this group-size. Unfortunately p-1 is even, so there are also groups of size 2, but they are extremly improbable. Usually a \"safe\"-prime number p is used, wich in turn is composed out of a big prime q: p = 2*q + 1. This way a random generator is very likely to produce a big group-size.\n",
    "\n",
    "A simpler method is to stick to known primes and generators, wich are specified in some cryptographic protocols."
   ]
  },
  {
   "cell_type": "code",
   "execution_count": 93,
   "metadata": {},
   "outputs": [
    {
     "name": "stdout",
     "output_type": "stream",
     "text": [
      "\u001b[1m cyclic group length for random prime: 19 \u001b[0m\n",
      "g= 1  length= 1  elements:  [1]\n",
      "g= 2  length= 18  elements:  [1, 2, 4, 8, 16, 13, 7, 14, 9, 18, 17, 15, 11, 3, 6, 12, 5, 10]\n",
      "g= 3  length= 18  elements:  [1, 3, 9, 8, 5, 15, 7, 2, 6, 18, 16, 10, 11, 14, 4, 12, 17, 13]\n",
      "g= 4  length= 9  elements:  [1, 4, 16, 7, 9, 17, 11, 6, 5]\n",
      "g= 5  length= 9  elements:  [1, 5, 6, 11, 17, 9, 7, 16, 4]\n",
      "g= 6  length= 9  elements:  [1, 6, 17, 7, 4, 5, 11, 9, 16]\n",
      "g= 7  length= 3  elements:  [1, 7, 11]\n",
      "g= 8  length= 6  elements:  [1, 8, 7, 18, 11, 12]\n",
      "g= 9  length= 9  elements:  [1, 9, 5, 7, 6, 16, 11, 4, 17]\n",
      "g= 10  length= 18  elements:  [1, 10, 5, 12, 6, 3, 11, 15, 17, 18, 9, 14, 7, 13, 16, 8, 4, 2]\n",
      "g= 11  length= 3  elements:  [1, 11, 7]\n",
      "g= 12  length= 6  elements:  [1, 12, 11, 18, 7, 8]\n",
      "g= 13  length= 18  elements:  [1, 13, 17, 12, 4, 14, 11, 10, 16, 18, 6, 2, 7, 15, 5, 8, 9, 3]\n",
      "g= 14  length= 18  elements:  [1, 14, 6, 8, 17, 10, 7, 3, 4, 18, 5, 13, 11, 2, 9, 12, 16, 15]\n",
      "g= 15  length= 18  elements:  [1, 15, 16, 12, 9, 2, 11, 13, 5, 18, 4, 3, 7, 10, 17, 8, 6, 14]\n",
      "g= 16  length= 9  elements:  [1, 16, 9, 11, 5, 4, 7, 17, 6]\n",
      "g= 17  length= 9  elements:  [1, 17, 4, 11, 16, 6, 7, 5, 9]\n",
      "g= 18  length= 2  elements:  [1, 18]\n"
     ]
    }
   ],
   "source": [
    "print('\\033[1m','cyclic group length for random prime: 19','\\033[0m')\n",
    "p=19\n",
    "for g in range(1,p):\n",
    "    l = list()\n",
    "    for i in range(0,p):\n",
    "        n = g**i % p\n",
    "        if n not in l:\n",
    "            l.append(n)\n",
    "    print('g=',g,' length=',len(l),' elements: ',l)"
   ]
  },
  {
   "cell_type": "code",
   "execution_count": 92,
   "metadata": {},
   "outputs": [
    {
     "name": "stdout",
     "output_type": "stream",
     "text": [
      "\u001b[1m cyclic group length for safe-prime: 23 = 2⋅11 + 1 \u001b[0m\n",
      "g= 1  length= 1  elements:  [1]\n",
      "g= 2  length= 11  elements:  [1, 2, 4, 8, 16, 9, 18, 13, 3, 6, 12]\n",
      "g= 3  length= 11  elements:  [1, 3, 9, 4, 12, 13, 16, 2, 6, 18, 8]\n",
      "g= 4  length= 11  elements:  [1, 4, 16, 18, 3, 12, 2, 8, 9, 13, 6]\n",
      "g= 5  length= 22  elements:  [1, 5, 2, 10, 4, 20, 8, 17, 16, 11, 9, 22, 18, 21, 13, 19, 3, 15, 6, 7, 12, 14]\n",
      "g= 6  length= 11  elements:  [1, 6, 13, 9, 8, 2, 12, 3, 18, 16, 4]\n",
      "g= 7  length= 22  elements:  [1, 7, 3, 21, 9, 17, 4, 5, 12, 15, 13, 22, 16, 20, 2, 14, 6, 19, 18, 11, 8, 10]\n",
      "g= 8  length= 11  elements:  [1, 8, 18, 6, 2, 16, 13, 12, 4, 9, 3]\n",
      "g= 9  length= 11  elements:  [1, 9, 12, 16, 6, 8, 3, 4, 13, 2, 18]\n",
      "g= 10  length= 22  elements:  [1, 10, 8, 11, 18, 19, 6, 14, 2, 20, 16, 22, 13, 15, 12, 5, 4, 17, 9, 21, 3, 7]\n",
      "g= 11  length= 22  elements:  [1, 11, 6, 20, 13, 5, 9, 7, 8, 19, 2, 22, 12, 17, 3, 10, 18, 14, 16, 15, 4, 21]\n",
      "g= 12  length= 11  elements:  [1, 12, 6, 3, 13, 18, 9, 16, 8, 4, 2]\n",
      "g= 13  length= 11  elements:  [1, 13, 8, 12, 18, 4, 6, 9, 2, 3, 16]\n",
      "g= 14  length= 22  elements:  [1, 14, 12, 7, 6, 15, 3, 19, 13, 21, 18, 22, 9, 11, 16, 17, 8, 20, 4, 10, 2, 5]\n",
      "g= 15  length= 22  elements:  [1, 15, 18, 17, 2, 7, 13, 11, 4, 14, 3, 22, 8, 5, 6, 21, 16, 10, 12, 19, 9, 20]\n",
      "g= 16  length= 11  elements:  [1, 16, 3, 2, 9, 6, 4, 18, 12, 8, 13]\n",
      "g= 17  length= 22  elements:  [1, 17, 13, 14, 8, 21, 12, 20, 18, 7, 4, 22, 6, 10, 9, 15, 2, 11, 3, 5, 16, 19]\n",
      "g= 18  length= 11  elements:  [1, 18, 2, 13, 4, 3, 8, 6, 16, 12, 9]\n",
      "g= 19  length= 22  elements:  [1, 19, 16, 5, 3, 11, 2, 15, 9, 10, 6, 22, 4, 7, 18, 20, 12, 21, 8, 14, 13, 17]\n",
      "g= 20  length= 22  elements:  [1, 20, 9, 19, 12, 10, 16, 21, 6, 5, 8, 22, 3, 14, 4, 11, 13, 7, 2, 17, 18, 15]\n",
      "g= 21  length= 22  elements:  [1, 21, 4, 15, 16, 14, 18, 10, 3, 17, 12, 22, 2, 19, 8, 7, 9, 5, 13, 20, 6, 11]\n",
      "g= 22  length= 2  elements:  [1, 22]\n"
     ]
    }
   ],
   "source": [
    "print('\\033[1m','cyclic group length for safe-prime: 23 = 2⋅11 + 1','\\033[0m')\n",
    "p=23\n",
    "for g in range(1,p):\n",
    "    l = list()\n",
    "    for i in range(0,p):\n",
    "        n = g**i % p\n",
    "        if n not in l:\n",
    "            l.append(n)\n",
    "    print('g=',g,' length=',len(l),' elements: ',l)"
   ]
  },
  {
   "cell_type": "markdown",
   "metadata": {},
   "source": [
    "### Discrete logarithm problem\n",
    "\n",
    "to crack the cifer a and b has to be found. This is a hard problem.\n",
    "\n",
    "\\begin{align}\n",
    "g^a \\pmod p &\\equiv aa \\\\\n",
    "g^b \\pmod p &\\equiv bb\n",
    "\\end{align}"
   ]
  },
  {
   "cell_type": "markdown",
   "metadata": {},
   "source": [
    "# example Diffie-Hellman key exchange"
   ]
  },
  {
   "cell_type": "code",
   "execution_count": 94,
   "metadata": {},
   "outputs": [],
   "source": [
    "###public\n",
    "\n",
    "#generator\n",
    "g = 3\n",
    "\n",
    "#prime (large)\n",
    "p = 2903"
   ]
  },
  {
   "cell_type": "code",
   "execution_count": 95,
   "metadata": {},
   "outputs": [],
   "source": [
    "###Alice\n",
    "a=9557\n",
    "aa = g**a % p"
   ]
  },
  {
   "cell_type": "code",
   "execution_count": 96,
   "metadata": {},
   "outputs": [],
   "source": [
    "###Bob\n",
    "b=238\n",
    "bb = g**b % p"
   ]
  },
  {
   "cell_type": "code",
   "execution_count": 97,
   "metadata": {},
   "outputs": [],
   "source": [
    "###exchange calculated values aa and bb"
   ]
  },
  {
   "cell_type": "code",
   "execution_count": 98,
   "metadata": {},
   "outputs": [],
   "source": [
    "###Alice: a, aa,\n",
    "#from Bob: bb,\n",
    "#public: g, p,\n",
    "\n",
    "shared_key_a = bb**a % p"
   ]
  },
  {
   "cell_type": "code",
   "execution_count": 99,
   "metadata": {},
   "outputs": [],
   "source": [
    "###Bob: b, bb,\n",
    "#from Alice: aa,\n",
    "#public: g, p,\n",
    "\n",
    "shared_key_b = aa**b % p"
   ]
  },
  {
   "cell_type": "code",
   "execution_count": 100,
   "metadata": {},
   "outputs": [
    {
     "name": "stdout",
     "output_type": "stream",
     "text": [
      "1782 and 1782 are equal !\n",
      "this is the new shared secret key\n"
     ]
    }
   ],
   "source": [
    "print(shared_key_a,'and',shared_key_b,'are equal !')\n",
    "print('this is the new shared secret key')"
   ]
  },
  {
   "cell_type": "code",
   "execution_count": null,
   "metadata": {},
   "outputs": [],
   "source": []
  }
 ],
 "metadata": {
  "kernelspec": {
   "display_name": "Python 3",
   "language": "python",
   "name": "python3"
  },
  "language_info": {
   "codemirror_mode": {
    "name": "ipython",
    "version": 3
   },
   "file_extension": ".py",
   "mimetype": "text/x-python",
   "name": "python",
   "nbconvert_exporter": "python",
   "pygments_lexer": "ipython3",
   "version": "3.7.5"
  }
 },
 "nbformat": 4,
 "nbformat_minor": 2
}
